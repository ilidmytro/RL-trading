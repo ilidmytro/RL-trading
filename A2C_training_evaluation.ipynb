{
  "nbformat": 4,
  "nbformat_minor": 0,
  "metadata": {
    "accelerator": "GPU",
    "colab": {
      "name": "A2C_training_evaluation.ipynb",
      "provenance": [],
      "collapsed_sections": [
        "TPNiRfZlBhdZ",
        "pWIL1JyfBJpp",
        "BixoQ0wgMKOS",
        "04U5gBArBQci",
        "7q7Bx-4TBXfP",
        "Ye0gJgoWBb3f",
        "aFcSuokKjIoy"
      ],
      "toc_visible": true
    },
    "kernelspec": {
      "display_name": "Python 3",
      "name": "python3"
    }
  },
  "cells": [
    {
      "cell_type": "markdown",
      "metadata": {
        "id": "DshjJFRymL_e"
      },
      "source": [
        "#Installations and Libraries"
      ]
    },
    {
      "cell_type": "code",
      "metadata": {
        "id": "s8Qan-gcAqw4"
      },
      "source": [
        "!wget http://prdownloads.sourceforge.net/ta-lib/ta-lib-0.4.0-src.tar.gz\n",
        "!tar -xzvf ta-lib-0.4.0-src.tar.gz\n",
        "%cd ta-lib\n",
        "!./configure --prefix=/usr\n",
        "!make\n",
        "!make install\n",
        "!pip install Ta-Lib\n",
        "import talib as ta"
      ],
      "execution_count": null,
      "outputs": []
    },
    {
      "cell_type": "code",
      "metadata": {
        "id": "3T9ibPxwA37m"
      },
      "source": [
        "!git clone https://github.com/Shmuma/ptan.git\n",
        "from ptan import ptan"
      ],
      "execution_count": null,
      "outputs": []
    },
    {
      "cell_type": "code",
      "metadata": {
        "id": "l2l2HlncA6k6"
      },
      "source": [
        "import gym\n",
        "import numpy as np\n",
        "import pandas as pd\n",
        "from sklearn import preprocessing\n",
        "import time\n",
        "import matplotlib.pyplot as plt\n",
        "import seaborn as sns\n",
        "import collections\n",
        "\n",
        "import sys, os\n",
        "\n",
        "import torch\n",
        "import torch.nn as nn\n",
        "import torch.optim as optim\n",
        "import torch.nn.utils as nn_utils\n",
        "import torch.nn.functional as F\n",
        "from torch.utils.tensorboard import SummaryWriter\n",
        "\n",
        "import tensorflow as tf\n",
        "%load_ext tensorboard"
      ],
      "execution_count": null,
      "outputs": []
    },
    {
      "cell_type": "markdown",
      "metadata": {
        "id": "BAPPYh42Dqtp"
      },
      "source": [
        "#Data"
      ]
    },
    {
      "cell_type": "code",
      "metadata": {
        "id": "St8yJZtSaXi0"
      },
      "source": [
        "def data(start_train, end_train, start_test, end_test):\n",
        "\n",
        "  prices = pd.read_csv(os.getcwd()+'/bitmex_data.csv', index_col=0)\n",
        "  prices.volume[prices.volume == 0] = 100\n",
        "\n",
        "  # Create new variables\n",
        "  prices['close_change'] = (prices.close - prices.close.shift(1)) / prices.close.shift(1)\n",
        "  prices['low_change'] = (prices.low - prices.low.shift(1)) / prices.low.shift(1)\n",
        "  prices['high_change'] = (prices.high - prices.high.shift(1)) / prices.high.shift(1)\n",
        "  prices['high_sc'] = (prices.high - prices.open) / prices.open\n",
        "  prices['low_sc'] = (prices.low - prices.open) / prices.open\n",
        "  prices[\"volume_change\"] = (prices.volume - prices.volume.shift(1)) / prices.volume.shift(1)\n",
        "\n",
        "  # Limit the range of values\n",
        "  prices.loc[prices.volume_change>500, 'volume_change'] = 50\n",
        "  prices.loc[prices.volume_change==0, 'volume_change'] = 0.5\n",
        "  prices.loc[prices.close_change>0.1, 'close_change'] = 0.1\n",
        "  prices.loc[prices.close_change<-0.1, 'close_change'] = -0.1\n",
        "  prices.loc[prices.low_change>0.1, 'low_change'] = 0.1\n",
        "  prices.loc[prices.low_change<-0.1, 'low_change'] = -0.1\n",
        "  prices.loc[prices.high_change>0.1, 'high_change'] = 0.1\n",
        "  prices.loc[prices.high_change<-0.1, 'high_change'] = -0.1\n",
        "  prices.loc[prices.high_sc>0.1, 'high_sc'] = 0.1\n",
        "  prices.loc[prices.low_sc<-0.1, 'low_sc'] = -0.1\n",
        "\n",
        "  # Scale the inputs\n",
        "  scaler=preprocessing.StandardScaler()\n",
        "  scaler.fit(prices.loc[:, prices.columns[-6:]])\n",
        "  prices.loc[start_train:end_train+1, prices.columns[-6:]] = scaler.transform(prices.loc[start_train:end_train+1, prices.columns[-6:]])\n",
        "  prices.loc[start_test:end_test+1, prices.columns[-6:]] = scaler.transform(prices.loc[start_test:end_test+1, prices.columns[-6:]])\n",
        "  \n",
        "  train_data = prices.loc[start_train:end_train+1].reset_index(drop=True)\n",
        "  test_data = prices.loc[start_test:end_test+1].reset_index(drop=True)\n",
        "  \n",
        "  return train_data, test_data"
      ],
      "execution_count": 72,
      "outputs": []
    },
    {
      "cell_type": "markdown",
      "metadata": {
        "id": "TnSV6KFrBHUu"
      },
      "source": [
        "#Environment"
      ]
    },
    {
      "cell_type": "code",
      "metadata": {
        "id": "QKu5_GfnD9wv"
      },
      "source": [
        "class Actions():\n",
        "    # 0 - hold, 1 - buy, -1 - sell\n",
        "    action = np.array([-1, 0, 1])"
      ],
      "execution_count": 21,
      "outputs": []
    },
    {
      "cell_type": "code",
      "metadata": {
        "id": "iKw0b5uDD-5b"
      },
      "source": [
        "class Environment_trade(gym.Env):\n",
        "    \"\"\"\n",
        "    The simulated environment for trading. \n",
        "    \"\"\"\n",
        "    \n",
        "    def __init__(self, prices, initial_balance_btc = 0.1, lookback_window = 50, max_trading_session = 10000, technical_window = 15):\n",
        "        self.prices = prices.dropna().reset_index()\n",
        "        self.initial_balance_btc = initial_balance_btc\n",
        "        self.lookback_window = lookback_window\n",
        "        self.action_space = gym.spaces.Discrete(n = Actions.action.size)\n",
        "        self.trade_size = initial_balance_btc\n",
        "        self.max_steps = max_trading_session\n",
        "        self.technical_window = technical_window\n",
        "        self.observation_space = gym.spaces.Box(low = -np.inf, high = np.inf,\n",
        "                                                shape = (18, (self.lookback_window + 1)), dtype = np.float32)\n",
        "\n",
        "    def reset(self, offset = None):\n",
        "        self.done = False\n",
        "        self.btc_held = 0\n",
        "        self.net_gain = 0\n",
        "        window = max(self.technical_window, self.lookback_window)\n",
        "        if offset is not None:\n",
        "          self.offset = offset\n",
        "        else:\n",
        "          self.offset = np.random.choice(self.prices.shape[0] - self.max_steps - (window * 4 + 1)) + window * 4 #because of macd\n",
        "        self.steps_left = self.max_steps\n",
        "        self.account_history = np.zeros((6 ,self.lookback_window + 1))\n",
        "        self.technical_indicators = np.empty((10,0))\n",
        "        for i in range(self.lookback_window):\n",
        "          self.tech(self.offset - self.lookback_window + i, self.technical_window)\n",
        "        self.state = self.cur_state()\n",
        "        return self.state\n",
        "        \n",
        "    def shape(self):\n",
        "        return self.observation_space.shape\n",
        "    \n",
        "    def cur_state(self):\n",
        "        start=self.offset-self.lookback_window\n",
        "        end=self.offset+1\n",
        "        self.tech(self.offset, self.technical_window)\n",
        "        cols = ['close_sc', 'high_sc', 'low_sc', 'close_change', 'high_change', 'low_change']\n",
        "        state = np.vstack((\n",
        "                           self.prices.close_change.values[start:end], self.prices.high_sc.values[start:end],\n",
        "                           self.prices.low_sc.values[start:end], self.prices.high_change.values[start:end],\n",
        "                           self.prices.low_change.values[start:end], self.prices.volume_change.values[start:end],\n",
        "                           self.technical_indicators[:,-(self.lookback_window+1):],\n",
        "                           self.account_history[[-3,-2],-(self.lookback_window+1):])) \n",
        "        return state.T\n",
        "        \n",
        "    def tech(self, end, n):\n",
        "        end=end + 1\n",
        "        start = end - n\n",
        "        sma = ta.SMA(self.prices.close.values[start-1:end], n)\n",
        "        sma = (sma[-1]/sma[-2]-1)*100\n",
        "        ema = ta.EMA(self.prices.close.values[start-1:end], n)\n",
        "        ema = (ema[-1]/ema[-2]-1)*100\n",
        "        tema = ta.TEMA(self.prices.close.values[end - 3 * (n-1):end], n-1)\n",
        "        tema = (tema[-1]/tema[-2]-1)*100\n",
        "        rsi = ta.RSI(self.prices.close.values[start-1:end], n)[-1] / 100\n",
        "        cmo = ta.CMO(self.prices.close.values[start-1:end], n)[-1] / 100\n",
        "        roc = ta.ROC(self.prices.close.values[start-1:end], n)[-1]\n",
        "        wil = ta.WILLR(self.prices.high.values[start-1:end], self.prices.low.values[start-1:end], self.prices.close.values[start-1:end], n)[-1] / 100\n",
        "        cci = ta.CCI(self.prices.high.values[start-1:end], self.prices.low.values[start-1:end], self.prices.close.values[start-1:end], n)[-1] / 100\n",
        "        macd = ta.MACD(self.prices.close.values[end - n * 3:end], n, n * 2, n * 0.75)[-1][-1]\n",
        "        ppo = ta.PPO(self.prices.close.values[end - n * 2:end], n, n * 2)[-1]\n",
        "\n",
        "\n",
        "        self.technical_indicators = np.append(self.technical_indicators, [[sma], [ema], [tema],\n",
        "                                                                          [rsi], [cmo], [roc],\n",
        "                                                                          [wil], [cci], [macd],\n",
        "                                                                          [ppo]], axis = 1)\n",
        "\n",
        "    def step(self, action):\n",
        "        if self.done == True:\n",
        "            reward = None\n",
        "        else:\n",
        "            change_net_gain, profit, btc_transaction = 0, 0, 0\n",
        "            price_open = self.prices.close.iloc[self.offset]\n",
        "            price_close = self.prices.close.iloc[self.offset + 1]\n",
        "            price_low = self.prices.low.iloc[self.offset + 1]\n",
        "            price_high = self.prices.high.iloc[self.offset + 1]\n",
        "\n",
        "            act = Actions.action[action]\n",
        "  \n",
        "            if self.btc_held > 0 and act > 0:\n",
        "                act = 0\n",
        "            elif self.btc_held < 0 and act < 0:\n",
        "                act = 0\n",
        "\n",
        "\n",
        "            btc_transaction = self.trade_size * act\n",
        "            self.btc_held += btc_transaction\n",
        "\n",
        "            profit += (price_close - price_open) / price_open * self.btc_held\n",
        "\n",
        "            self.offset += 1\n",
        "\n",
        "            change_net_gain = profit / self.initial_balance_btc * 100\n",
        "            self.net_gain += profit\n",
        "\n",
        "            self.account_history = np.append(self.account_history, [[btc_transaction / self.initial_balance_btc], [0], \n",
        "                                                                    [change_net_gain], [self.net_gain / self.initial_balance_btc *100],\n",
        "                                                                    [self.btc_held / self.initial_balance_btc], [0]], axis=1)\n",
        "            \n",
        "            reward = change_net_gain\n",
        "            reward = np.clip(reward, -3, 3)\n",
        "\n",
        "            self.state = self.cur_state()\n",
        "            self.steps_left -= 1\n",
        "            \n",
        "            if self.steps_left == 0 or self.net_gain <= -self.initial_balance_btc or self.offset == len(self.prices)-1:\n",
        "                self.done = True\n",
        "            \n",
        "        return self.state, reward, self.done, {}"
      ],
      "execution_count": 22,
      "outputs": []
    },
    {
      "cell_type": "markdown",
      "metadata": {
        "id": "pWIL1JyfBJpp"
      },
      "source": [
        "#Experience Source"
      ]
    },
    {
      "cell_type": "code",
      "metadata": {
        "id": "tuWxLJsEBNXN"
      },
      "source": [
        "Experience = collections.namedtuple('Experience', ['state', 'action', 'reward', 'done'])\n",
        "ExperienceFirstLast = collections.namedtuple('ExperienceFirstLast', ('state', 'action', 'reward', 'last_state'))"
      ],
      "execution_count": 33,
      "outputs": []
    },
    {
      "cell_type": "code",
      "metadata": {
        "id": "1myEh_N9BOz_"
      },
      "source": [
        "class ExperienceSource:\n",
        "    \"\"\"\n",
        "    Simple n-step experience source using single or multiple environments\n",
        "    Every experience contains n list of Experience entries\n",
        "    \"\"\"\n",
        "    def __init__(self, env, agent, steps_count=2):\n",
        "\n",
        "        assert isinstance(env, (gym.Env, list, tuple))\n",
        "        assert isinstance(steps_count, int)\n",
        "        assert steps_count >= 1\n",
        "        if isinstance(env, (list, tuple)):\n",
        "            self.pool = env\n",
        "        else:\n",
        "            self.pool = [env]\n",
        "        self.agent = agent\n",
        "        self.steps_count = steps_count\n",
        "        self.total_rewards = []\n",
        "        self.net_gains = []\n",
        "        self.position = []\n",
        "        self.traded_amount = []\n",
        "        self.ret = []\n",
        "\n",
        "    def __iter__(self):\n",
        "        states, histories, cur_rewards= [], [], []\n",
        "        for env in self.pool:\n",
        "            obs = env.reset()\n",
        "            states.append(obs)\n",
        "            histories.append(collections.deque(maxlen=self.steps_count))\n",
        "            cur_rewards.append(0.0)\n",
        "\n",
        "        while True:\n",
        "            actions = self.agent(np.array(states))\n",
        "\n",
        "            for idx, (env, action) in enumerate(zip(self.pool, actions)):\n",
        "                next_state, r, is_done, _ = env.step(action)\n",
        "                state = states[idx]\n",
        "                history = histories[idx]\n",
        "                cur_rewards[idx] += r\n",
        "                history.append(Experience(state=state, action=action, reward=r, done=is_done))\n",
        "                \n",
        "                if len(history) == self.steps_count:\n",
        "                    yield tuple(history)\n",
        "                states[idx] = next_state\n",
        "                if is_done:\n",
        "                    # in case of very short episode (shorter than our steps count), send gathered history\n",
        "                    if 0 < len(history) < self.steps_count:\n",
        "                        yield tuple(history)\n",
        "\n",
        "                    self.total_rewards.append(cur_rewards[idx])\n",
        "                    self.net_gains.append(env.account_history[3][-1])\n",
        "                    self.position.append(env.account_history[4].mean())\n",
        "                    self.traded_amount.append(abs(env.account_history[0]).sum())\n",
        "                    self.ret.append(env.account_history[1].sum())\n",
        "                    cur_rewards[idx] = 0.0\n",
        "\n",
        "                    states[idx] = env.reset() \n",
        "                    history.clear()\n",
        "\n",
        "    def pop_total_rewards(self):\n",
        "        r = self.total_rewards\n",
        "        ng = self.net_gains\n",
        "        pos = self.position\n",
        "        tr = self.traded_amount\n",
        "        ret = self.ret\n",
        "        if r:\n",
        "            self.total_rewards = []\n",
        "            self.net_gains = []\n",
        "            self.position = []\n",
        "            self.traded_amount = []\n",
        "            self.ret = []\n",
        "        return r, ng, pos, tr, ret\n",
        "\n",
        "class ExperienceSourceFirstLast(ExperienceSource):\n",
        "\n",
        "    def __init__(self, env, agent, gamma, steps_count=1):\n",
        "        assert isinstance(gamma, float)\n",
        "        super(ExperienceSourceFirstLast, self).__init__(env, agent, steps_count+1)\n",
        "        self.gamma = gamma\n",
        "        self.steps = steps_count\n",
        "\n",
        "    def __iter__(self):\n",
        "        for exp in super(ExperienceSourceFirstLast, self).__iter__():\n",
        "            if exp[-1].done and len(exp) <= self.steps:\n",
        "                last_state = None\n",
        "                elems = exp\n",
        "            else:\n",
        "                last_state = exp[-1].state\n",
        "                elems = exp[:-1]\n",
        "            total_reward = 0.0\n",
        "            for e in reversed(elems):\n",
        "                total_reward *= self.gamma\n",
        "                total_reward += e.reward\n",
        "            yield ExperienceFirstLast(state=exp[0].state, action=exp[0].action,\n",
        "                                      reward=total_reward, last_state=last_state)"
      ],
      "execution_count": 89,
      "outputs": []
    },
    {
      "cell_type": "markdown",
      "metadata": {
        "id": "04U5gBArBQci"
      },
      "source": [
        "#Agent"
      ]
    },
    {
      "cell_type": "code",
      "metadata": {
        "id": "1d-zwiXZBRfM"
      },
      "source": [
        "def default_states_preprocessor(states):\n",
        "    \"\"\"Convert list of states into the form suitable for model. By default we assume Variable\"\"\"\n",
        "\n",
        "    if states.ndim == 2:\n",
        "        np_states = np.expand_dims(states, 0)\n",
        "    else:\n",
        "        np_states = np.array([np.array(s, copy=False) for s in states], copy=False)\n",
        "    return torch.tensor(np_states)"
      ],
      "execution_count": 35,
      "outputs": []
    },
    {
      "cell_type": "code",
      "metadata": {
        "id": "G9OlIW9oBUqN"
      },
      "source": [
        "class PolicyAgent():\n",
        "    def __init__(self, model, device=\"cpu\", apply_softmax=False, preprocessor=default_states_preprocessor):\n",
        "        self.model = model\n",
        "        self.device = device\n",
        "        self.apply_softmax = apply_softmax\n",
        "        self.preprocessor = preprocessor\n",
        "\n",
        "    @torch.no_grad()\n",
        "    def __call__(self, states):\n",
        "\n",
        "        actions = []\n",
        "\n",
        "        if self.preprocessor is not None:\n",
        "            states = self.preprocessor(states)\n",
        "            if torch.is_tensor(states):\n",
        "                states = states.to(self.device)\n",
        "        probs_v, vals = self.model(states)\n",
        "        if self.apply_softmax:\n",
        "            probs_v = F.softmax(probs_v, dim=1)\n",
        "        probs = probs_v.data.cpu().numpy()\n",
        "\n",
        "        for prob in probs:\n",
        "            actions.append(np.random.choice(len(prob), p=prob))\n",
        "        return np.array(actions)"
      ],
      "execution_count": 36,
      "outputs": []
    },
    {
      "cell_type": "code",
      "metadata": {
        "id": "ywjVP11DBV_r"
      },
      "source": [
        "class PolicyAgentEvaluation():\n",
        "    def __init__(self, model, device=\"cpu\", apply_softmax=False, preprocessor=default_states_preprocessor):\n",
        "        self.model = model\n",
        "        self.device = device\n",
        "        self.apply_softmax = apply_softmax\n",
        "        self.preprocessor = preprocessor\n",
        "\n",
        "    @torch.no_grad()\n",
        "    def __call__(self, states):\n",
        "\n",
        "        actions = []\n",
        "\n",
        "        if self.preprocessor is not None:\n",
        "            states = self.preprocessor(states)\n",
        "            if torch.is_tensor(states):\n",
        "                states = states.to(self.device)\n",
        "        probs_v, vals = self.model(states)\n",
        "        if self.apply_softmax:\n",
        "            probs_v = F.softmax(probs_v, dim=1)\n",
        "        probs = probs_v.data.cpu().numpy()\n",
        "\n",
        "        for prob in probs:\n",
        "            actions.append(np.argmax(prob))\n",
        "        return np.array(actions)"
      ],
      "execution_count": 37,
      "outputs": []
    },
    {
      "cell_type": "markdown",
      "metadata": {
        "id": "7q7Bx-4TBXfP"
      },
      "source": [
        "#Unpack"
      ]
    },
    {
      "cell_type": "code",
      "metadata": {
        "id": "wKvETPn-BYnk"
      },
      "source": [
        "def unpack_batch(batch, net, gamma, rew_steps, device='cpu'):\n",
        "\n",
        "    states = []\n",
        "    actions = []\n",
        "    rewards = []\n",
        "    not_done_idx = []\n",
        "    last_states = []\n",
        "    for idx, exp in enumerate(batch):\n",
        "        states.append(np.array(exp.state, copy=False))\n",
        "        actions.append(int(exp.action))\n",
        "        rewards.append(exp.reward)\n",
        "        if exp.last_state is not None:\n",
        "            not_done_idx.append(idx)\n",
        "            last_states.append(np.array(exp.last_state, copy=False))\n",
        "\n",
        "    states_v = torch.FloatTensor(np.array(states, copy=False)).to(device)\n",
        "    actions_t = torch.LongTensor(actions).to(device)\n",
        "\n",
        "    # handle rewards\n",
        "    rewards_np = np.array(rewards, dtype=np.float32)\n",
        "    if not_done_idx:\n",
        "        last_states_v = torch.FloatTensor(np.array(last_states, copy=False)).to(device)\n",
        "        last_vals_v = net(last_states_v)[1]\n",
        "        last_vals_np = last_vals_v.data.cpu().numpy()[:, 0]\n",
        "        last_vals_np *= gamma ** rew_steps\n",
        "        rewards_np[not_done_idx] += last_vals_np\n",
        "\n",
        "    ref_vals_v = torch.FloatTensor(rewards_np).to(device)\n",
        "\n",
        "    return states_v, actions_t, ref_vals_v"
      ],
      "execution_count": 38,
      "outputs": []
    },
    {
      "cell_type": "markdown",
      "metadata": {
        "id": "Ye0gJgoWBb3f"
      },
      "source": [
        "#A2C"
      ]
    },
    {
      "cell_type": "code",
      "metadata": {
        "id": "2gMs2SRQBcwI"
      },
      "source": [
        "class A2C_LSTM(nn.Module):\n",
        "  def __init__(self, input_shape, hidden_dim, n_layers, n_actions):\n",
        "    super(A2C_LSTM, self).__init__()\n",
        "\n",
        "    self.lstm = nn.LSTM(input_shape[0], hidden_dim, n_layers, batch_first=True)\n",
        "\n",
        "    self.policy = nn.Sequential(\n",
        "      nn.LayerNorm(hidden_dim),\n",
        "      nn.Linear(hidden_dim, 128),\n",
        "      nn.ReLU(),\n",
        "      nn.LayerNorm(128),\n",
        "      nn.Linear(128, n_actions))\n",
        "    \n",
        "    self.value = nn.Sequential(\n",
        "      nn.LayerNorm(hidden_dim),\n",
        "      nn.Linear(hidden_dim, 128),\n",
        "      nn.ReLU(),\n",
        "      nn.LayerNorm(128),\n",
        "      nn.Linear(128, 1))\n",
        "\n",
        "  def forward(self, x):\n",
        "      fx = x.float()\n",
        "      out, (hid_cell, state_cell) = self.lstm(fx)\n",
        "      fxx = hid_cell[-1]\n",
        "      return self.policy(fxx), self.value(fxx)"
      ],
      "execution_count": 39,
      "outputs": []
    },
    {
      "cell_type": "markdown",
      "metadata": {
        "id": "9Ng6BDV6Biw8"
      },
      "source": [
        "#Trackers"
      ]
    },
    {
      "cell_type": "markdown",
      "metadata": {
        "id": "P-SDlCFijBUk"
      },
      "source": [
        "###Regular"
      ]
    },
    {
      "cell_type": "code",
      "metadata": {
        "id": "t8f7HngyjDVa"
      },
      "source": [
        "class RewardTracker:\n",
        "    def __init__(self, writer, n_env):\n",
        "        self.writer = writer\n",
        "        self.n_env = n_env\n",
        "\n",
        "    def __enter__(self):\n",
        "        self.total_rewards = []\n",
        "        self.env_rewards = []\n",
        "        self.net_gain = []\n",
        "        self.position = []\n",
        "        self.traded = []\n",
        "        return self\n",
        "\n",
        "    def __exit__(self, *args):\n",
        "        self.writer.close()\n",
        "\n",
        "    def reward(self, reward, net_gain, position, traded, frame):\n",
        "        self.total_rewards.append(reward)\n",
        "        self.env_rewards.append(reward)\n",
        "        self.net_gain.append(net_gain)\n",
        "        self.position.append(position)\n",
        "        self.traded.append(traded)\n",
        "        mean_reward = np.mean(self.total_rewards[-self.n_env * 10:])\n",
        "        \n",
        "        if len(self.env_rewards) == self.n_env:\n",
        "          print(\"%d: done %d trading sessions, reward %.3f, net gain %.1f, position %.2f, total_traded %.1f\" % (\n",
        "              frame, len(self.env_rewards), np.mean(self.total_rewards), np.mean(self.net_gain),\n",
        "              np.mean(self.position), np.mean(self.traded)))\n",
        "          self.env_rewards = []\n",
        "          self.net_gain = []\n",
        "          self.position = []\n",
        "          self.traded = []\n",
        "\n",
        "        sys.stdout.flush()\n",
        "\n",
        "        self.writer.add_scalar(\"reward_mean\", mean_reward, frame)\n",
        "        self.writer.add_scalar(\"net_gain\", net_gain, frame)\n",
        "        self.writer.add_scalar(\"av_position\", position, frame)\n",
        "        self.writer.add_scalar(\"total_trade\", traded, frame)"
      ],
      "execution_count": 40,
      "outputs": []
    },
    {
      "cell_type": "markdown",
      "metadata": {
        "id": "aFcSuokKjIoy"
      },
      "source": [
        "###Val"
      ]
    },
    {
      "cell_type": "code",
      "metadata": {
        "id": "plDx-Nv4B2zA"
      },
      "source": [
        "class Validation_tracker:\n",
        "  def __init__(self, writer, val_data, env, agent):\n",
        "        self.writer = writer\n",
        "        self.data = val_data\n",
        "        self.env = env\n",
        "        self.agent = agent\n",
        "\n",
        "  def __enter__(self):\n",
        "        self.reward = []\n",
        "        self.net_gain = []\n",
        "        self.position = []\n",
        "        return self\n",
        "    \n",
        "  def __exit__(self, *args):\n",
        "        self.writer.close()\n",
        "\n",
        "  def performance(self, frame):\n",
        "    net_gains, rewards, positions = [], [], []\n",
        "    \n",
        "    off = 100 \n",
        "    to_continue = True\n",
        "    while len(self.env.prices) - off > 100:\n",
        "      state = self.env.reset(offset = off)\n",
        "      reward = 0\n",
        "      while True:\n",
        "        action = self.agent(np.array(state))\n",
        "        state, r, done, _ = self.env.step(int(action))\n",
        "        reward += r\n",
        "        off = self.env.offset\n",
        "        if done: break\n",
        "      net_gains.append(self.env.account_history[3][-1])\n",
        "      rewards.append(reward)\n",
        "      positions.append(self.env.account_history[4].mean())\n",
        "\n",
        "    if not self.net_gain or np.mean(net_gains) > max(self.net_gain):\n",
        "      torch.save(net.state_dict(), 'parameters_best_val_{}'.format(np.round(np.mean(net_gains),1)))\n",
        "      print(\"Best validation, parameters saved.\")\n",
        "    self.reward.append(np.mean(rewards))\n",
        "    self.net_gain.append(np.mean(net_gains))\n",
        "    self.position.append(np.mean(positions))\n",
        "    print(\"Validation %d: mean reward %.3f, mean gain %.1f, mean position %.2f\" % (\n",
        "          frame, self.reward[-1], self.net_gain[-1], self.position[-1]))\n",
        "    \n",
        "    self.writer.add_scalar(\"val_reward\", self.reward[-1], frame)\n",
        "    self.writer.add_scalar(\"val_net_gain\", self.net_gain[-1], frame)\n",
        "    self.writer.add_scalar(\"val_position\", self.position[-1], frame)"
      ],
      "execution_count": 41,
      "outputs": []
    },
    {
      "cell_type": "markdown",
      "metadata": {
        "id": "DrisoVV5B8Gl"
      },
      "source": [
        "#Arguments"
      ]
    },
    {
      "cell_type": "code",
      "metadata": {
        "id": "uduOnaEhrg5y"
      },
      "source": [
        "# Hyperparameters\n",
        "\n",
        "GAMMA = 0.98\n",
        "LEARNING_RATE = 1e-5\n",
        "W_D = 0.01\n",
        "ENTROPY_BETA = 0.05\n",
        "VALUE_BETA = 0.15\n",
        "POLICY_BETA = 1\n",
        "BATCH_SIZE = 128\n",
        "NUM_ENVS = 128\n",
        "LOOKBACK_WINDOW = 25\n",
        "MTS = 500\n",
        "HIDDEN_DIM = 256\n",
        "N_LAYERS = 2\n",
        "\n",
        "REWARD_STEPS = 3\n",
        "CLIP_GRAD = 0.01\n",
        "\n",
        "stop_after = 10000000\n",
        "SYNC_TARGET_FRAMES = 5000"
      ],
      "execution_count": 100,
      "outputs": []
    },
    {
      "cell_type": "code",
      "metadata": {
        "id": "dDmdP66S3YHn"
      },
      "source": [
        "train_data, test_data = data(1, 70000, 70000, 100000)"
      ],
      "execution_count": null,
      "outputs": []
    },
    {
      "cell_type": "markdown",
      "metadata": {
        "id": "E7zY0HCSCJjB"
      },
      "source": [
        "#Training Loop"
      ]
    },
    {
      "cell_type": "code",
      "metadata": {
        "id": "Eh6NVPsqCK6N"
      },
      "source": [
        "device = torch.device(\"cuda\" if torch.cuda.is_available() else \"cpu\")\n",
        "\n",
        "make_env = lambda: Environment_trade(train_data, lookback_window = LOOKBACK_WINDOW, max_trading_session = MTS)\n",
        "envs = [make_env() for _ in range(NUM_ENVS)]\n",
        "writer = SummaryWriter(comment=\"Trading\")\n",
        "\n",
        "net = A2C_LSTM(envs[0].observation_space.shape, HIDDEN_DIM, N_LAYERS, envs[0].action_space.n).to(device)\n",
        "tgt_net = A2C_LSTM(envs[0].observation_space.shape, HIDDEN_DIM, N_LAYERS, envs[0].action_space.n).to(device)\n",
        "\n",
        "agent = PolicyAgent(lambda x: net(x), apply_softmax=True, device=device)\n",
        "exp_source = ExperienceSourceFirstLast(envs, agent, gamma=GAMMA, steps_count=REWARD_STEPS)\n",
        "\n",
        "optimizer = optim.AdamW(net.parameters(), lr=LEARNING_RATE, weight_decay=W_D)\n",
        "\n",
        "batch = []\n",
        "step = 0"
      ],
      "execution_count": 101,
      "outputs": []
    },
    {
      "cell_type": "code",
      "metadata": {
        "id": "fhHTxWcICRgB"
      },
      "source": [
        "env_val = Environment_trade(test_data, lookback_window = LOOKBACK_WINDOW, max_trading_session = MTS)\n",
        "val_agent = PolicyAgentEvaluation(lambda x: net(x), apply_softmax=True, device=device)"
      ],
      "execution_count": 102,
      "outputs": []
    },
    {
      "cell_type": "code",
      "metadata": {
        "id": "d_2CXjHwCmZp"
      },
      "source": [
        "def init_weights(m):\n",
        "    if type(m) == nn.Linear or type(m) == nn.Conv1d:\n",
        "        torch.nn.init.xavier_uniform_(m.weight)\n",
        "        m.bias.data.fill_(0.01)\n",
        "_=net.apply(init_weights)"
      ],
      "execution_count": 103,
      "outputs": []
    },
    {
      "cell_type": "code",
      "metadata": {
        "id": "gkd2ybIWI5HP"
      },
      "source": [
        "tgt_net=net\n",
        "_=net.train()\n",
        "_=tgt_net.train()"
      ],
      "execution_count": 104,
      "outputs": []
    },
    {
      "cell_type": "code",
      "metadata": {
        "id": "JcYqAhxAC0Ea"
      },
      "source": [
        "%tensorboard --logdir runs"
      ],
      "execution_count": null,
      "outputs": []
    },
    {
      "cell_type": "code",
      "metadata": {
        "id": "q-tNN3ilCv7M"
      },
      "source": [
        "with RewardTracker(writer, n_env=NUM_ENVS) as tracker:\n",
        "      with ptan.common.utils.TBMeanTracker(writer, batch_size=10) as tb_tracker:\n",
        "          with Validation_tracker(writer, test_data, env_val, val_agent) as val_tracker:\n",
        "            for exp in exp_source:\n",
        "                step += 1\n",
        "                batch.append(exp)\n",
        "\n",
        "                if step % 1000000 == 0:\n",
        "                  val_tracker.performance(step)\n",
        "                if step == stop_after: \n",
        "                  torch.save(net.state_dict(), 'parameters_after_{}m_iterations'.format(stop_after / 1e6))\n",
        "                  print(\"Parameters saved after {}m iterations\".format(step / 1e6))\n",
        "                  break\n",
        "\n",
        "                # handle new rewards\n",
        "                new_rewards, net_gains, positions, traded, _ = exp_source.pop_total_rewards()\n",
        "                if new_rewards:\n",
        "                    tracker.reward(new_rewards[0], net_gains[0], positions[0], traded[0], step)\n",
        "              \n",
        "                if step % SYNC_TARGET_FRAMES == 0:\n",
        "                    tgt_net.load_state_dict(net.state_dict())\n",
        "                \n",
        "                if len(batch) < BATCH_SIZE:\n",
        "                    continue\n",
        "\n",
        "                states_v, actions_t, vals_ref_v = unpack_batch(batch, tgt_net, GAMMA, REWARD_STEPS, device=device)\n",
        "                batch.clear()\n",
        "\n",
        "                optimizer.zero_grad()\n",
        "                logits_v, value_v = net(states_v)\n",
        "                loss_value_v = VALUE_BETA * F.mse_loss(value_v.squeeze(-1), vals_ref_v)\n",
        "\n",
        "                log_prob_v = F.log_softmax(logits_v, dim=1)\n",
        "                adv_v = vals_ref_v - value_v.detach()\n",
        "                log_prob_actions_v = adv_v * log_prob_v[range(BATCH_SIZE), actions_t]\n",
        "                loss_policy_v = -log_prob_actions_v.mean() * POLICY_BETA\n",
        "\n",
        "                prob_v = F.softmax(logits_v, dim=1)\n",
        "                entropy_loss_v = ENTROPY_BETA * (prob_v * log_prob_v).sum(dim=1).mean()\n",
        "\n",
        "                # calculate policy gradients only\n",
        "                loss_policy_v.backward(retain_graph=True)\n",
        "                grads = np.concatenate([p.grad.data.cpu().numpy().flatten()\n",
        "                                        for p in net.parameters()\n",
        "                                        if p.grad is not None])\n",
        "\n",
        "                # apply entropy and value gradients\n",
        "                loss_v = entropy_loss_v + loss_value_v\n",
        "                loss_v.backward()\n",
        "                nn_utils.clip_grad_norm_(net.parameters(), CLIP_GRAD)\n",
        "                optimizer.step()\n",
        "                # get full loss\n",
        "                loss_v += loss_policy_v\n",
        "\n",
        "\n",
        "                tb_tracker.track(\"advantage\",       adv_v, step)\n",
        "                tb_tracker.track(\"values\",          value_v, step)\n",
        "                tb_tracker.track(\"batch_rewards\",   vals_ref_v, step)\n",
        "                tb_tracker.track(\"loss_entropy\",    -entropy_loss_v, step)\n",
        "                tb_tracker.track(\"loss_policy\",     loss_policy_v, step)\n",
        "                tb_tracker.track(\"loss_value\",      loss_value_v, step)\n",
        "                tb_tracker.track(\"loss_total\",      loss_v, step)\n",
        "                tb_tracker.track(\"grad_l2\",         np.sqrt(np.mean(np.square(grads))), step)\n",
        "                tb_tracker.track(\"grad_max\",        np.max(np.abs(grads)), step)\n",
        "                tb_tracker.track(\"grad_var\",        np.var(grads), step)"
      ],
      "execution_count": null,
      "outputs": []
    },
    {
      "cell_type": "markdown",
      "metadata": {
        "id": "X2T4ZqLiD7eU"
      },
      "source": [
        "#Active Learning"
      ]
    },
    {
      "cell_type": "code",
      "metadata": {
        "id": "TD0-ge-STjQ8"
      },
      "source": [
        "class New_tracker:\n",
        "  def __init__(self, env, agent):\n",
        "        self.env = env\n",
        "        self.agent = agent\n",
        "\n",
        "  def __enter__(self):\n",
        "        self.net_gain = []\n",
        "        self.position = []\n",
        "        return self\n",
        "    \n",
        "  def __exit__(self, *args):\n",
        "        1==1\n",
        "\n",
        "  def performance(self):\n",
        "    off = 100 \n",
        "    state = self.env.reset(offset = off)\n",
        "    price_open = self.env.prices.close.iloc[off]\n",
        "    while True:\n",
        "      action = self.agent(np.array(state))\n",
        "      state, r, done, _ = self.env.step(int(action))\n",
        "      if done:\n",
        "        break\n",
        "    price_close = self.env.prices.close.iloc[-1]\n",
        "    base_return = (price_close - price_open)/price_open * 100\n",
        "\n",
        "    print(\"Validation: mean gain %.1f, mean position %.2f, baseline %.2f\" % (self.env.account_history[3][-1],\n",
        "                                                              self.env.account_history[4].mean(),\n",
        "                                                              base_return))\n",
        "\n",
        "    return self.env.account_history[3][-1], base_return"
      ],
      "execution_count": 128,
      "outputs": []
    },
    {
      "cell_type": "code",
      "metadata": {
        "id": "D_o8LQLeL524"
      },
      "source": [
        "model, base, long_strategy = [], [], []\n",
        "\n",
        "device = torch.device(\"cuda\" if torch.cuda.is_available() else \"cpu\")\n",
        "writer = SummaryWriter(comment=\"Trading\")\n",
        "\n",
        "net = A2C_LSTM(envs[0].observation_space.shape, HIDDEN_DIM, N_LAYERS, envs[0].action_space.n).to(device)\n",
        "net.load_state_dict(torch.load(os.getcwd()+'/parameters_after_{}m_iterations'.format(stop_after / 1e6), map_location=device))\n",
        "tgt_net = A2C_LSTM(envs[0].observation_space.shape, HIDDEN_DIM, N_LAYERS, envs[0].action_space.n).to(device)\n",
        "tgt_net=net\n",
        "net.train()\n",
        "tgt_net.train()\n",
        "base_net = A2C_LSTM(envs[0].observation_space.shape, HIDDEN_DIM, N_LAYERS, envs[0].action_space.n).to(device)\n",
        "base_net.load_state_dict(torch.load(os.getcwd()+'/parameters_after_{}m_iterations'.format(stop_after / 1e6), map_location=device))\n",
        "base_net.eval()\n",
        "\n",
        "agent = PolicyAgent(lambda x: net(x), apply_softmax=True, device=device)\n",
        "val_agent = PolicyAgentEvaluation(lambda x: net(x), apply_softmax=True, device=device)\n",
        "base_agent = PolicyAgentEvaluation(lambda x: base_net(x), apply_softmax=True, device=device)\n",
        "\n",
        "optimizer = optim.AdamW(net.parameters(), lr=LEARNING_RATE, weight_decay=W_D)\n",
        "\n",
        "step = 0\n",
        "NUM_ENVS = 32\n",
        "last_observation = 70000\n",
        "training_size = 3360 # 5 past weeks\n",
        "time_step = 672 # one week for 15m timeframe\n",
        "stop = 16000\n",
        "\n",
        "for i in range(85):\n",
        "\n",
        "  step = 0\n",
        "  last_observation += time_step\n",
        "  train_data, test_data = data(last_observation - training_size, last_observation + time_step, last_observation-100, last_observation+time_step) # 100 is used as an offset for technical indicators\n",
        "\n",
        "  make_env = lambda: Environment_trade(train_data, lookback_window = LOOKBACK_WINDOW, max_trading_session = MTS)\n",
        "  envs = [make_env() for _ in range(NUM_ENVS)]\n",
        "  env_val = Environment_trade(test_data, lookback_window = LOOKBACK_WINDOW)\n",
        "\n",
        "  exp_source = ExperienceSourceFirstLast(envs, agent, gamma=GAMMA, steps_count=REWARD_STEPS)\n",
        "  batch = []\n",
        "\n",
        "  for exp in exp_source:\n",
        "      step += 1\n",
        "      batch.append(exp)\n",
        "      \n",
        "      if step == stop:\n",
        "        result1 = New_tracker(env_val, val_agent).performance()\n",
        "        result2 = New_tracker(env_val, base_agent).performance()\n",
        "        model.append(result1[0])\n",
        "        long_strategy.append(result1[1])\n",
        "        base.append(result2[0])\n",
        "        break\n",
        "\n",
        "      if step % SYNC_TARGET_FRAMES == 0:\n",
        "          tgt_net.load_state_dict(net.state_dict())\n",
        "      \n",
        "      if len(batch) < BATCH_SIZE:\n",
        "          continue\n",
        "\n",
        "      states_v, actions_t, vals_ref_v = unpack_batch(batch, tgt_net, GAMMA, REWARD_STEPS, device=device)\n",
        "      batch.clear()\n",
        "\n",
        "      optimizer.zero_grad()\n",
        "      logits_v, value_v = net(states_v)\n",
        "      loss_value_v = VALUE_BETA * F.mse_loss(value_v.squeeze(-1), vals_ref_v)\n",
        "\n",
        "      log_prob_v = F.log_softmax(logits_v, dim=1)\n",
        "      adv_v = vals_ref_v - value_v.detach()\n",
        "      log_prob_actions_v = adv_v * log_prob_v[range(BATCH_SIZE), actions_t]\n",
        "      loss_policy_v = -log_prob_actions_v.mean() * POLICY_BETA\n",
        "\n",
        "      prob_v = F.softmax(logits_v, dim=1)\n",
        "      entropy_loss_v = ENTROPY_BETA * (prob_v * log_prob_v).sum(dim=1).mean()\n",
        "\n",
        "      loss_policy_v.backward(retain_graph=True)\n",
        "      grads = np.concatenate([p.grad.data.cpu().numpy().flatten()\n",
        "                              for p in net.parameters()\n",
        "                              if p.grad is not None])\n",
        "\n",
        "      loss_v = entropy_loss_v + loss_value_v\n",
        "      loss_v.backward()\n",
        "      nn_utils.clip_grad_norm_(net.parameters(), CLIP_GRAD)\n",
        "      optimizer.step()\n",
        "      loss_v += loss_policy_v"
      ],
      "execution_count": null,
      "outputs": []
    },
    {
      "cell_type": "code",
      "metadata": {
        "id": "ZTdlD52F-v0W"
      },
      "source": [
        "model_cum = np.cumsum(model)\n",
        "model_comp = [1]\n",
        "for i in model:\n",
        "  model_comp.append(model_comp[-1]*(1+i/100))\n",
        "\n",
        "long_strategy_cum = np.cumsum(long_strategy)\n",
        "long_strategy_comp = [1]\n",
        "for i in long_strategy:\n",
        "  long_strategy_comp.append(long_strategy_comp[-1]*(1+i/100))\n",
        "\n",
        "base_cum = np.cumsum(base)\n",
        "base_comp = [1]\n",
        "for i in base:\n",
        "  base_comp.append(base_comp[-1]*(1+i/100))"
      ],
      "execution_count": 150,
      "outputs": []
    },
    {
      "cell_type": "code",
      "metadata": {
        "id": "QqW-3nf76bqY"
      },
      "source": [
        "ax = sns.distplot(model, hist=True, kde=True, \n",
        "             bins=40, color = 'darkblue', axlabel='Return',\n",
        "             hist_kws={'edgecolor':'black'},\n",
        "             kde_kws={'linewidth': 4})\n",
        "plt.legend()\n",
        "plt.show()"
      ],
      "execution_count": null,
      "outputs": []
    },
    {
      "cell_type": "code",
      "metadata": {
        "colab": {
          "base_uri": "https://localhost:8080/",
          "height": 280
        },
        "id": "uNYCgsVIc4Ii",
        "outputId": "66ab2457-7527-4c53-f26a-46440d431bae"
      },
      "source": [
        "plt.bar(range(1, 86), long_strategy, color=(0.85, 0.25, 0.05))\n",
        "plt.xlabel('Week')\n",
        "plt.ylabel('Return %')\n",
        "plt.show()"
      ],
      "execution_count": null,
      "outputs": [
        {
          "output_type": "display_data",
          "data": {
            "image/png": "[encoded data removed]",
            "text/plain": [
              "<Figure size 432x288 with 1 Axes>"
            ]
          },
          "metadata": {
            "tags": [],
            "needs_background": "light"
          }
        }
      ]
    },
    {
      "cell_type": "code",
      "metadata": {
        "colab": {
          "base_uri": "https://localhost:8080/",
          "height": 279
        },
        "id": "gi0H2lHkcgYG",
        "outputId": "9a770af7-00cc-45c2-cc5f-22330f827f0a"
      },
      "source": [
        "plt.bar(range(1, 86), np.array(model) - np.array(base))\n",
        "plt.xlabel('Week')\n",
        "plt.ylabel('Return difference %')\n",
        "plt.show()"
      ],
      "execution_count": null,
      "outputs": [
        {
          "output_type": "display_data",
          "data": {
            "image/png": "[encoded data removed]",
            "text/plain": [
              "<Figure size 432x288 with 1 Axes>"
            ]
          },
          "metadata": {
            "tags": [],
            "needs_background": "light"
          }
        }
      ]
    },
    {
      "cell_type": "code",
      "metadata": {
        "colab": {
          "base_uri": "https://localhost:8080/",
          "height": 281
        },
        "id": "lcA58N0tYbiN",
        "outputId": "d0a3b796-8639-4e91-8bee-fec4464c6c98"
      },
      "source": [
        "plt.plot(model_comp, 'r', label='A2C retrained')\n",
        "plt.plot(base_comp, 'blue', label='A2C base')\n",
        "plt.plot(long_strategy_comp, 'g', label='Long')\n",
        "plt.xlabel('Week')\n",
        "plt.ylabel('Initial capital appreciation')\n",
        "plt.legend()\n",
        "plt.show()"
      ],
      "execution_count": null,
      "outputs": [
        {
          "output_type": "display_data",
          "data": {
            "image/png": "[encoded data removed]",
            "text/plain": [
              "<Figure size 432x288 with 1 Axes>"
            ]
          },
          "metadata": {
            "tags": [],
            "needs_background": "light"
          }
        }
      ]
    },
    {
      "cell_type": "code",
      "metadata": {
        "colab": {
          "base_uri": "https://localhost:8080/",
          "height": 279
        },
        "id": "7H7-cVYhYR5O",
        "outputId": "51018c62-7ebd-4af1-dd46-3b97672ee92e"
      },
      "source": [
        "plt.plot(model_cum, 'r', label='A2C retrained')\n",
        "plt.plot(base_cum, 'blue', label='A2C base')\n",
        "plt.plot(long_strategy_cum, 'g', label='Long')\n",
        "plt.xlabel('Week')\n",
        "plt.ylabel('Return %')\n",
        "plt.legend()\n",
        "plt.show()"
      ],
      "execution_count": null,
      "outputs": [
        {
          "output_type": "display_data",
          "data": {
            "image/png": "[encoded data removed]",
            "text/plain": [
              "<Figure size 432x288 with 1 Axes>"
            ]
          },
          "metadata": {
            "tags": [],
            "needs_background": "light"
          }
        }
      ]
    }
  ]
}