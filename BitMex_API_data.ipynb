{
  "nbformat": 4,
  "nbformat_minor": 0,
  "metadata": {
    "colab": {
      "name": "BitMex API data.ipynb",
      "provenance": [],
      "collapsed_sections": []
    },
    "kernelspec": {
      "name": "python3",
      "display_name": "Python 3"
    }
  },
  "cells": [
    {
      "cell_type": "code",
      "metadata": {
        "id": "nCGMGfLj0UjQ"
      },
      "source": [
        "pip install bitmex"
      ],
      "execution_count": null,
      "outputs": []
    },
    {
      "cell_type": "code",
      "metadata": {
        "id": "VTDJQmqJ0Eef"
      },
      "source": [
        "import numpy as np\n",
        "import pandas as pd\n",
        "import math\n",
        "import time\n",
        "from bitmex import bitmex\n",
        "from datetime import timedelta, datetime\n",
        "from dateutil import parser\n",
        "from tqdm import tqdm_notebook #(Optional, used for progress-bars)"
      ],
      "execution_count": null,
      "outputs": []
    },
    {
      "cell_type": "code",
      "metadata": {
        "id": "uQRPINvE0JHc"
      },
      "source": [
        "### API\n",
        "bitmex_api_key = 'API_KEY'    #Enter your own API-key here\n",
        "bitmex_api_secret = 'API_SECRET' #Enter your own API-secret here\n",
        "\n",
        "### CONSTANTS\n",
        "binsizes = {\"1m\": 1, \"5m\": 5, \"1h\": 60, \"1d\": 1440}\n",
        "batch_size = 750\n",
        "bitmex_client = bitmex(test=False, api_key=bitmex_api_key, api_secret=bitmex_api_secret)\n",
        "\n",
        "### FUNCTIONS\n",
        "def minutes_of_new_data(symbol, kline_size, data, source):\n",
        "    if len(data) > 0:  \n",
        "      old = parser.parse(data[\"timestamp\"].iloc[-1])\n",
        "    elif source == \"bitmex\": \n",
        "      old = bitmex_client.Trade.Trade_getBucketed(symbol=symbol, binSize=kline_size, count=1, reverse=False).result()[0][0]['timestamp']\n",
        "    if source == \"bitmex\": \n",
        "      new = bitmex_client.Trade.Trade_getBucketed(symbol=symbol, binSize=kline_size, count=1, reverse=True).result()[0][0]['timestamp']\n",
        "    return old, new\n",
        "\n",
        "def get_all_bitmex(symbol, kline_size, data_df=None, save = False):\n",
        "    if data_df is None: \n",
        "      data_df = pd.DataFrame()\n",
        "\n",
        "    oldest_point, newest_point = minutes_of_new_data(symbol, kline_size, data_df, source = \"bitmex\")\n",
        "    delta_min = (newest_point - oldest_point).total_seconds()/60\n",
        "    available_data = math.ceil(delta_min/binsizes[kline_size])\n",
        "    rounds = math.ceil(available_data / batch_size)\n",
        "    if rounds > 0:\n",
        "        print('Downloading %d minutes of new data available for %s, i.e. %d instances of %s data in %d rounds.' % (delta_min, symbol, available_data, kline_size, rounds))\n",
        "        for round_num in tqdm_notebook(range(rounds)):\n",
        "            time.sleep(1)\n",
        "            new_time = (oldest_point + timedelta(minutes = round_num * batch_size * binsizes[kline_size]))\n",
        "            data = bitmex_client.Trade.Trade_getBucketed(symbol=symbol, binSize=kline_size, count=batch_size, startTime = new_time).result()[0]\n",
        "            temp_df = pd.DataFrame(data)\n",
        "            data_df = data_df.append(temp_df)\n",
        "    data_df.set_index('timestamp', inplace=True)\n",
        "    print('All caught up..!')\n",
        "    return data_df"
      ],
      "execution_count": null,
      "outputs": []
    },
    {
      "cell_type": "code",
      "metadata": {
        "id": "8Q8-wi2CM2k-"
      },
      "source": [
        "# Load the data, keep only relevant columns and filter by date\n",
        "\n",
        "data=get_all_bitmex('XBTUSD', '5m', save=True)\n",
        "data = data.reset_index(drop=False)[['timestamp', 'open','high','low','close','volume']]\n",
        "start_date = '2017-09-01'\n",
        "data = data[data['timestamp'] >= start_date].reset_index(drop=True)"
      ],
      "execution_count": null,
      "outputs": []
    },
    {
      "cell_type": "code",
      "metadata": {
        "id": "r3YJ94ufMiT_"
      },
      "source": [
        "# Transform 5m frequency to 15m\n",
        "\n",
        "new_data = pd.DataFrame([], columns=data.columns)\n",
        "\n",
        "for i in range(2, len(data), 3):\n",
        "  a = np.zeros(6)\n",
        "  a[1] = data.loc[i-2].open\n",
        "  a[2] = data.loc[i-2:i].high.max()\n",
        "  a[3] = data.loc[i-2:i].low.min()\n",
        "  a[4] = data.loc[i].close\n",
        "  a[5] = data.loc[i-2:i].volume.sum()\n",
        "  new_data.loc[len(new_data)] = a\n",
        "  new_data.loc[len(new_data)-1, 'timestamp'] = data.loc[i].timestamp"
      ],
      "execution_count": null,
      "outputs": []
    },
    {
      "cell_type": "code",
      "metadata": {
        "id": "rIdDE2SZm0Ik"
      },
      "source": [
        "# Save the final dataframe\n",
        "\n",
        "new_data.to_csv(os.getcwd()+'/bitmex_data.csv')"
      ],
      "execution_count": null,
      "outputs": []
    }
  ]
}